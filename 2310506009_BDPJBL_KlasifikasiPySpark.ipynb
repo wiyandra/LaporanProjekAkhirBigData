{
  "nbformat": 4,
  "nbformat_minor": 0,
  "metadata": {
    "colab": {
      "provenance": []
    },
    "kernelspec": {
      "name": "python3",
      "display_name": "Python 3"
    },
    "language_info": {
      "name": "python"
    }
  },
  "cells": [
    {
      "cell_type": "markdown",
      "source": [
        "# IMPORT LIBRARY"
      ],
      "metadata": {
        "id": "CibzcyOc8mwk"
      }
    },
    {
      "cell_type": "code",
      "source": [
        "import pandas as pd\n",
        "import numpy as np\n",
        "from pyspark.sql import SparkSession\n",
        "from pyspark.sql.functions import col, when, lit\n",
        "from pyspark.ml.feature import HashingTF, IDF, Tokenizer\n",
        "from pyspark.ml import Pipeline\n",
        "from sklearn.model_selection import train_test_split\n",
        "from pyspark.ml.classification import RandomForestClassifier, RandomForestClassificationModel\n",
        "from pyspark.ml.evaluation import MulticlassClassificationEvaluator\n",
        "from sklearn.feature_extraction.text import TfidfVectorizer\n",
        "from sklearn.preprocessing import LabelEncoder\n",
        "import matplotlib.pyplot as plt\n",
        "import seaborn as sns"
      ],
      "metadata": {
        "id": "FCg_aupSD8oE"
      },
      "execution_count": null,
      "outputs": []
    },
    {
      "cell_type": "markdown",
      "source": [
        "# DATA PREPARATION WITH PANDAS"
      ],
      "metadata": {
        "id": "vOgC6gE58qs7"
      }
    },
    {
      "cell_type": "code",
      "execution_count": null,
      "metadata": {
        "colab": {
          "base_uri": "https://localhost:8080/"
        },
        "id": "-yKyJ4DJ4tc7",
        "outputId": "c7ca3da3-2c68-4bfd-a9f6-a168d030ebd5"
      },
      "outputs": [
        {
          "output_type": "stream",
          "name": "stdout",
          "text": [
            "<class 'pandas.core.frame.DataFrame'>\n",
            "RangeIndex: 362806 entries, 0 to 362805\n",
            "Data columns (total 12 columns):\n",
            " #   Column         Non-Null Count   Dtype \n",
            "---  ------         --------------   ----- \n",
            " 0   Age            362806 non-null  object\n",
            " 1   Condition      362806 non-null  object\n",
            " 2   Date           362806 non-null  object\n",
            " 3   Drug           362806 non-null  object\n",
            " 4   DrugId         362806 non-null  int64 \n",
            " 5   EaseofUse      362806 non-null  int64 \n",
            " 6   Effectiveness  362806 non-null  int64 \n",
            " 7   Reviews        362763 non-null  object\n",
            " 8   Satisfaction   362806 non-null  int64 \n",
            " 9   Sex            362806 non-null  object\n",
            " 10  Sides          362806 non-null  object\n",
            " 11  UsefulCount    362806 non-null  int64 \n",
            "dtypes: int64(5), object(7)\n",
            "memory usage: 33.2+ MB\n"
          ]
        }
      ],
      "source": [
        "# Load Dataset WebMD Drug Reviews Dataset\n",
        "df_pandas = pd.read_csv('/content/drive/MyDrive/DatasetPJBLBD/webmd.csv')\n",
        "df_pandas.info() # Menampilkan Informasi Data"
      ]
    },
    {
      "cell_type": "code",
      "source": [
        "# Mengecek Nilai NaN Pada DataFrame\n",
        "df_pandas.isnull().sum()"
      ],
      "metadata": {
        "colab": {
          "base_uri": "https://localhost:8080/",
          "height": 460
        },
        "id": "hJjp4iSD_vnR",
        "outputId": "89a34f30-aab2-4c0b-d3cd-f761fec741dc"
      },
      "execution_count": null,
      "outputs": [
        {
          "output_type": "execute_result",
          "data": {
            "text/plain": [
              "Age               0\n",
              "Condition         0\n",
              "Date              0\n",
              "Drug              0\n",
              "DrugId            0\n",
              "EaseofUse         0\n",
              "Effectiveness     0\n",
              "Reviews          43\n",
              "Satisfaction      0\n",
              "Sex               0\n",
              "Sides             0\n",
              "UsefulCount       0\n",
              "dtype: int64"
            ],
            "text/html": [
              "<div>\n",
              "<style scoped>\n",
              "    .dataframe tbody tr th:only-of-type {\n",
              "        vertical-align: middle;\n",
              "    }\n",
              "\n",
              "    .dataframe tbody tr th {\n",
              "        vertical-align: top;\n",
              "    }\n",
              "\n",
              "    .dataframe thead th {\n",
              "        text-align: right;\n",
              "    }\n",
              "</style>\n",
              "<table border=\"1\" class=\"dataframe\">\n",
              "  <thead>\n",
              "    <tr style=\"text-align: right;\">\n",
              "      <th></th>\n",
              "      <th>0</th>\n",
              "    </tr>\n",
              "  </thead>\n",
              "  <tbody>\n",
              "    <tr>\n",
              "      <th>Age</th>\n",
              "      <td>0</td>\n",
              "    </tr>\n",
              "    <tr>\n",
              "      <th>Condition</th>\n",
              "      <td>0</td>\n",
              "    </tr>\n",
              "    <tr>\n",
              "      <th>Date</th>\n",
              "      <td>0</td>\n",
              "    </tr>\n",
              "    <tr>\n",
              "      <th>Drug</th>\n",
              "      <td>0</td>\n",
              "    </tr>\n",
              "    <tr>\n",
              "      <th>DrugId</th>\n",
              "      <td>0</td>\n",
              "    </tr>\n",
              "    <tr>\n",
              "      <th>EaseofUse</th>\n",
              "      <td>0</td>\n",
              "    </tr>\n",
              "    <tr>\n",
              "      <th>Effectiveness</th>\n",
              "      <td>0</td>\n",
              "    </tr>\n",
              "    <tr>\n",
              "      <th>Reviews</th>\n",
              "      <td>43</td>\n",
              "    </tr>\n",
              "    <tr>\n",
              "      <th>Satisfaction</th>\n",
              "      <td>0</td>\n",
              "    </tr>\n",
              "    <tr>\n",
              "      <th>Sex</th>\n",
              "      <td>0</td>\n",
              "    </tr>\n",
              "    <tr>\n",
              "      <th>Sides</th>\n",
              "      <td>0</td>\n",
              "    </tr>\n",
              "    <tr>\n",
              "      <th>UsefulCount</th>\n",
              "      <td>0</td>\n",
              "    </tr>\n",
              "  </tbody>\n",
              "</table>\n",
              "</div><br><label><b>dtype:</b> int64</label>"
            ]
          },
          "metadata": {},
          "execution_count": 3
        }
      ]
    },
    {
      "cell_type": "code",
      "source": [
        "# Mengubah Nilai yang Hanya Berisi Newline atau Kosong Menjadi NaN\n",
        "df_pandas['Reviews'] = df_pandas['Reviews'].apply(lambda x: np.nan if isinstance(x, str) and x.strip() == '' else x)\n",
        "\n",
        "# Melihat Jumlah Nilai NaN pada DataFrame\n",
        "df_pandas.isna().sum()"
      ],
      "metadata": {
        "colab": {
          "base_uri": "https://localhost:8080/",
          "height": 460
        },
        "id": "X1ddTsNiF50J",
        "outputId": "b0deb5c6-dcbb-46b3-9828-3055a17f44d5"
      },
      "execution_count": null,
      "outputs": [
        {
          "output_type": "execute_result",
          "data": {
            "text/plain": [
              "Age                  0\n",
              "Condition            0\n",
              "Date                 0\n",
              "Drug                 0\n",
              "DrugId               0\n",
              "EaseofUse            0\n",
              "Effectiveness        0\n",
              "Reviews          41889\n",
              "Satisfaction         0\n",
              "Sex                  0\n",
              "Sides                0\n",
              "UsefulCount          0\n",
              "dtype: int64"
            ],
            "text/html": [
              "<div>\n",
              "<style scoped>\n",
              "    .dataframe tbody tr th:only-of-type {\n",
              "        vertical-align: middle;\n",
              "    }\n",
              "\n",
              "    .dataframe tbody tr th {\n",
              "        vertical-align: top;\n",
              "    }\n",
              "\n",
              "    .dataframe thead th {\n",
              "        text-align: right;\n",
              "    }\n",
              "</style>\n",
              "<table border=\"1\" class=\"dataframe\">\n",
              "  <thead>\n",
              "    <tr style=\"text-align: right;\">\n",
              "      <th></th>\n",
              "      <th>0</th>\n",
              "    </tr>\n",
              "  </thead>\n",
              "  <tbody>\n",
              "    <tr>\n",
              "      <th>Age</th>\n",
              "      <td>0</td>\n",
              "    </tr>\n",
              "    <tr>\n",
              "      <th>Condition</th>\n",
              "      <td>0</td>\n",
              "    </tr>\n",
              "    <tr>\n",
              "      <th>Date</th>\n",
              "      <td>0</td>\n",
              "    </tr>\n",
              "    <tr>\n",
              "      <th>Drug</th>\n",
              "      <td>0</td>\n",
              "    </tr>\n",
              "    <tr>\n",
              "      <th>DrugId</th>\n",
              "      <td>0</td>\n",
              "    </tr>\n",
              "    <tr>\n",
              "      <th>EaseofUse</th>\n",
              "      <td>0</td>\n",
              "    </tr>\n",
              "    <tr>\n",
              "      <th>Effectiveness</th>\n",
              "      <td>0</td>\n",
              "    </tr>\n",
              "    <tr>\n",
              "      <th>Reviews</th>\n",
              "      <td>41889</td>\n",
              "    </tr>\n",
              "    <tr>\n",
              "      <th>Satisfaction</th>\n",
              "      <td>0</td>\n",
              "    </tr>\n",
              "    <tr>\n",
              "      <th>Sex</th>\n",
              "      <td>0</td>\n",
              "    </tr>\n",
              "    <tr>\n",
              "      <th>Sides</th>\n",
              "      <td>0</td>\n",
              "    </tr>\n",
              "    <tr>\n",
              "      <th>UsefulCount</th>\n",
              "      <td>0</td>\n",
              "    </tr>\n",
              "  </tbody>\n",
              "</table>\n",
              "</div><br><label><b>dtype:</b> int64</label>"
            ]
          },
          "metadata": {},
          "execution_count": 4
        }
      ]
    },
    {
      "cell_type": "code",
      "source": [
        "# Menghapus Baris yang Memiliki Nilai NaN alam Kolom 'Reviews'\n",
        "df_pandas = df_pandas.dropna(subset=['Reviews'])\n",
        "\n",
        "# Mengecek Nilai NaN Pada DataFrame\n",
        "df_pandas.isna().sum()"
      ],
      "metadata": {
        "colab": {
          "base_uri": "https://localhost:8080/",
          "height": 460
        },
        "id": "YXhnBgq9_6xT",
        "outputId": "65e71376-53d4-4df2-8ef0-b035f9a7d5ae"
      },
      "execution_count": null,
      "outputs": [
        {
          "output_type": "execute_result",
          "data": {
            "text/plain": [
              "Age              0\n",
              "Condition        0\n",
              "Date             0\n",
              "Drug             0\n",
              "DrugId           0\n",
              "EaseofUse        0\n",
              "Effectiveness    0\n",
              "Reviews          0\n",
              "Satisfaction     0\n",
              "Sex              0\n",
              "Sides            0\n",
              "UsefulCount      0\n",
              "dtype: int64"
            ],
            "text/html": [
              "<div>\n",
              "<style scoped>\n",
              "    .dataframe tbody tr th:only-of-type {\n",
              "        vertical-align: middle;\n",
              "    }\n",
              "\n",
              "    .dataframe tbody tr th {\n",
              "        vertical-align: top;\n",
              "    }\n",
              "\n",
              "    .dataframe thead th {\n",
              "        text-align: right;\n",
              "    }\n",
              "</style>\n",
              "<table border=\"1\" class=\"dataframe\">\n",
              "  <thead>\n",
              "    <tr style=\"text-align: right;\">\n",
              "      <th></th>\n",
              "      <th>0</th>\n",
              "    </tr>\n",
              "  </thead>\n",
              "  <tbody>\n",
              "    <tr>\n",
              "      <th>Age</th>\n",
              "      <td>0</td>\n",
              "    </tr>\n",
              "    <tr>\n",
              "      <th>Condition</th>\n",
              "      <td>0</td>\n",
              "    </tr>\n",
              "    <tr>\n",
              "      <th>Date</th>\n",
              "      <td>0</td>\n",
              "    </tr>\n",
              "    <tr>\n",
              "      <th>Drug</th>\n",
              "      <td>0</td>\n",
              "    </tr>\n",
              "    <tr>\n",
              "      <th>DrugId</th>\n",
              "      <td>0</td>\n",
              "    </tr>\n",
              "    <tr>\n",
              "      <th>EaseofUse</th>\n",
              "      <td>0</td>\n",
              "    </tr>\n",
              "    <tr>\n",
              "      <th>Effectiveness</th>\n",
              "      <td>0</td>\n",
              "    </tr>\n",
              "    <tr>\n",
              "      <th>Reviews</th>\n",
              "      <td>0</td>\n",
              "    </tr>\n",
              "    <tr>\n",
              "      <th>Satisfaction</th>\n",
              "      <td>0</td>\n",
              "    </tr>\n",
              "    <tr>\n",
              "      <th>Sex</th>\n",
              "      <td>0</td>\n",
              "    </tr>\n",
              "    <tr>\n",
              "      <th>Sides</th>\n",
              "      <td>0</td>\n",
              "    </tr>\n",
              "    <tr>\n",
              "      <th>UsefulCount</th>\n",
              "      <td>0</td>\n",
              "    </tr>\n",
              "  </tbody>\n",
              "</table>\n",
              "</div><br><label><b>dtype:</b> int64</label>"
            ]
          },
          "metadata": {},
          "execution_count": 5
        }
      ]
    },
    {
      "cell_type": "code",
      "source": [
        "# Mengonversi Kolom 'Satisfaction' Menjadi Sentimen (1 = Positive, 0 = Negative)\n",
        "df_pandas['sentiment'] = df_pandas['Satisfaction'].apply(lambda x: 1 if x >= 3 else 0)\n",
        "\n",
        "# Memeriksa Hasil Konversi\n",
        "print(df_pandas[['Satisfaction', 'sentiment']].head())"
      ],
      "metadata": {
        "colab": {
          "base_uri": "https://localhost:8080/"
        },
        "id": "Y5uYsB5TD43t",
        "outputId": "413e3ccd-3744-4758-a31f-6fa5601312f5"
      },
      "execution_count": null,
      "outputs": [
        {
          "output_type": "stream",
          "name": "stdout",
          "text": [
            "   Satisfaction  sentiment\n",
            "0             5          1\n",
            "1             5          1\n",
            "2             3          1\n",
            "3             1          0\n",
            "4             1          0\n"
          ]
        }
      ]
    },
    {
      "cell_type": "markdown",
      "source": [
        "# MODELING DATA WITH SPARK"
      ],
      "metadata": {
        "id": "cs4BIhkF8xX1"
      }
    },
    {
      "cell_type": "code",
      "source": [
        "# Inisialisasi Spark Session\n",
        "spark = SparkSession.builder.appName('WebMD Drug Sentiment Analysis').getOrCreate()\n",
        "df = spark.createDataFrame(df_pandas)\n",
        "\n",
        "# Menampilkan Data 5 Teratas\n",
        "df.show(5)"
      ],
      "metadata": {
        "colab": {
          "base_uri": "https://localhost:8080/"
        },
        "id": "4Uh_6z218_c9",
        "outputId": "ea40a6f0-84aa-4eef-edcd-4d9837838d1a"
      },
      "execution_count": null,
      "outputs": [
        {
          "output_type": "stream",
          "name": "stdout",
          "text": [
            "+----------+-------------+---------+--------------------+------+---------+-------------+--------------------+------------+------+--------------------+-----------+---------+\n",
            "|       Age|    Condition|     Date|                Drug|DrugId|EaseofUse|Effectiveness|             Reviews|Satisfaction|   Sex|               Sides|UsefulCount|sentiment|\n",
            "+----------+-------------+---------+--------------------+------+---------+-------------+--------------------+------------+------+--------------------+-----------+---------+\n",
            "|75 or over|  Stuffy Nose|9/21/2014|        25dph-7.5peh|146724|        5|            5|I'm a retired phy...|           5|  Male|Drowsiness,  dizz...|          0|        1|\n",
            "|     25-34|Cold Symptoms|1/13/2011|        25dph-7.5peh|146724|        5|            5|cleared me right ...|           5|Female|Drowsiness,  dizz...|          1|        1|\n",
            "|     65-74|        Other|7/16/2012|warfarin (bulk) 1...|144731|        2|            3|why did my PTINR ...|           3|Female|                    |          0|        1|\n",
            "|75 or over|        Other|9/23/2010|warfarin (bulk) 1...|144731|        2|            2|FALLING AND DON'T...|           1|Female|                    |          0|        0|\n",
            "|     35-44|        Other| 1/6/2009|warfarin (bulk) 1...|144731|        1|            1|My grandfather wa...|           1|  Male|                    |          1|        0|\n",
            "+----------+-------------+---------+--------------------+------+---------+-------------+--------------------+------------+------+--------------------+-----------+---------+\n",
            "only showing top 5 rows\n",
            "\n"
          ]
        }
      ]
    },
    {
      "cell_type": "code",
      "source": [
        "# Memecah Teks Menjadi Kata Pada Kolom \"Reviews\"\n",
        "tokenizer = Tokenizer(inputCol=\"Reviews\", outputCol=\"words\")\n",
        "\n",
        "# Mengukur seberapa sering suatu kata muncul dalam sebuah dokumen tertentu.\n",
        "hashing_tf = HashingTF(inputCol=\"words\", outputCol=\"raw_features\", numFeatures=5000)\n",
        "\n",
        "# Mengukur seberapa penting kata tersebut dalam keseluruhan kumpulan dokumen.\n",
        "idf = IDF(inputCol=\"raw_features\", outputCol=\"features\")\n",
        "\n",
        "# Merangkai Tokenizer, HashingTF, dan IDF Menjadi Satu Alur.\n",
        "pipeline = Pipeline(stages=[tokenizer, hashing_tf, idf])\n",
        "\n",
        "# Model Pipeline Dilatih Untuk Menghasilkan Fitur TF-IDF\n",
        "model = pipeline.fit(df)\n",
        "df_tfidf = model.transform(df)\n",
        "\n",
        "# Menampilkan Hasil TF-IDF\n",
        "df_tfidf.select(\"Reviews\", \"features\").show()\n",
        "\n",
        "# Mengambil Fitur dan Label (Target)\n",
        "data = df_tfidf.select(\"features\", \"sentiment\")"
      ],
      "metadata": {
        "id": "t83sgtdEFuFc",
        "colab": {
          "base_uri": "https://localhost:8080/"
        },
        "outputId": "69230f5a-46a5-47a3-db23-3db906a12c57"
      },
      "execution_count": null,
      "outputs": [
        {
          "output_type": "stream",
          "name": "stdout",
          "text": [
            "+--------------------+--------------------+\n",
            "|             Reviews|            features|\n",
            "+--------------------+--------------------+\n",
            "|I'm a retired phy...|(5000,[76,150,177...|\n",
            "|cleared me right ...|(5000,[397,568,10...|\n",
            "|why did my PTINR ...|(5000,[345,440,48...|\n",
            "|FALLING AND DON'T...|(5000,[394,2891,3...|\n",
            "|My grandfather wa...|(5000,[38,92,313,...|\n",
            "|help heart condit...|(5000,[157,328,92...|\n",
            "|Haven't gotten pr...|(5000,[288,343,37...|\n",
            "|I have take this ...|(5000,[307,373,43...|\n",
            "|The 12 hour spray...|(5000,[263,527,10...|\n",
            "|Excellent in redu...|(5000,[452,2371,2...|\n",
            "|Taking Lyza made ...|(5000,[34,125,134...|\n",
            "|This stuff needs ...|(5000,[14,44,209,...|\n",
            "|I usually have ze...|(5000,[165,285,37...|\n",
            "|I was concerned a...|(5000,[113,165,30...|\n",
            "|The birth control...|(5000,[79,133,139...|\n",
            "|LYZA BIRTH CONTRO...|(5000,[14,113,209...|\n",
            "|Iâ??ve been takin...|(5000,[14,66,102,...|\n",
            "|I have been takin...|(5000,[38,88,165,...|\n",
            "|I have been on th...|(5000,[66,76,89,1...|\n",
            "|I took this pill ...|(5000,[15,125,165...|\n",
            "+--------------------+--------------------+\n",
            "only showing top 20 rows\n",
            "\n"
          ]
        }
      ]
    },
    {
      "cell_type": "code",
      "source": [
        "# Membagi Data Menjadi Data Latih dan Data Uji\n",
        "train_data, test_data = data.randomSplit([0.8, 0.2], seed=42)\n",
        "\n",
        "# Menampilkan Jumlah Data Latih dan Data Uji\n",
        "print(f\"Jumlah Training Data: {train_data.count()}\")\n",
        "print(f\"Jumlah Testing Data: {test_data.count()}\")"
      ],
      "metadata": {
        "id": "8DhG8Bi5GHjx",
        "colab": {
          "base_uri": "https://localhost:8080/"
        },
        "outputId": "b3dd95ca-bb61-4a95-b048-6172b07fb27e"
      },
      "execution_count": null,
      "outputs": [
        {
          "output_type": "stream",
          "name": "stdout",
          "text": [
            "Jumlah Training Data: 256726\n",
            "Jumlah Testing Data: 64191\n"
          ]
        }
      ]
    },
    {
      "cell_type": "code",
      "source": [
        "# Menyiapkan Model Random Forest Untuk Klasifikasi\n",
        "rf_classifier = RandomForestClassifier(featuresCol=\"features\", labelCol=\"sentiment\", numTrees=100, seed=42)\n",
        "\n",
        "# Melatih Model dengan Data Latih\n",
        "rf_model = rf_classifier.fit(train_data)"
      ],
      "metadata": {
        "id": "6CR4moitGIvy"
      },
      "execution_count": null,
      "outputs": []
    },
    {
      "cell_type": "code",
      "source": [
        "# Melakukan Prediksi dengan Data Uji\n",
        "predictions = rf_model.transform(test_data)\n",
        "\n",
        "# Mengevaluasi Model Menggunakan Akurasi\n",
        "evaluator = MulticlassClassificationEvaluator(labelCol=\"sentiment\", predictionCol=\"prediction\", metricName=\"accuracy\")\n",
        "accuracy = evaluator.evaluate(predictions)\n",
        "\n",
        "# Menampilkan Hasil Akurasi\n",
        "print(f\"Akurasi Model Random Forest Classifier : {accuracy}\")"
      ],
      "metadata": {
        "colab": {
          "base_uri": "https://localhost:8080/"
        },
        "id": "4jVtvYASKjaM",
        "outputId": "1ea73907-3431-4963-d740-2d4d5fa385b4"
      },
      "execution_count": null,
      "outputs": [
        {
          "output_type": "stream",
          "name": "stdout",
          "text": [
            "Akurasi Model Random Forest Classifier : 0.6006293717187767\n"
          ]
        }
      ]
    },
    {
      "cell_type": "markdown",
      "source": [
        "# HYPERPARAMETER TUNING"
      ],
      "metadata": {
        "id": "xw6Q9rhh9wOc"
      }
    },
    {
      "cell_type": "code",
      "source": [
        "from pyspark.ml.tuning import CrossValidator, ParamGridBuilder\n",
        "\n",
        "# maxDepth: Mengatur Kedalaman Maksimum Pohon Keputusan Pada Model Random Forest Classifier.\n",
        "# numTrees: Mengatur Jumlah Pohon dalam Model Random Forest Classifier.\n",
        "paramGrid = ParamGridBuilder()\\\n",
        "    .addGrid(rf_classifier.maxDepth, [5, 10])\\\n",
        "    .addGrid(rf_classifier.numTrees, [50, 100])\\\n",
        "    .build()\n",
        "\n",
        "# estimator: Model yang Digunakan, estimatorParamMaps: Grid Hyperparameter, numFolds: Pembagian Data\n",
        "crossval = CrossValidator(estimator=rf_classifier, estimatorParamMaps=paramGrid, evaluator=evaluator, numFolds=3)\n",
        "cv_model = crossval.fit(train_data)\n",
        "\n",
        "# Evaluasi Model dengan Cross-Validation\n",
        "cv_predictions = cv_model.transform(test_data)\n",
        "cv_accuracy = evaluator.evaluate(cv_predictions)\n",
        "print(f'Akurasi Model Random Forest Classifier dengan Cross-Validation: {cv_accuracy}')\n",
        "\n",
        "# Menampilkan Hasil Prediksi Cross-Validation 10 Data Teratas\n",
        "predictions_crossval = cv_predictions.select(\"sentiment\", \"prediction\").toPandas()\n",
        "print(\"\\nHasil Prediksi Menggunakan Cross Validation:\")\n",
        "predictions_crossval.head(10)"
      ],
      "metadata": {
        "colab": {
          "base_uri": "https://localhost:8080/",
          "height": 415
        },
        "id": "tNHacXkuNc5k",
        "outputId": "8ccd7d28-eba9-434c-b032-33d0b729fa37"
      },
      "execution_count": null,
      "outputs": [
        {
          "output_type": "stream",
          "name": "stdout",
          "text": [
            "Akurasi Model Random Forest Classifier dengan Cross-Validation: 0.6218784564814382\n",
            "\n",
            "Hasil Prediksi Menggunakan Cross Validation:\n"
          ]
        },
        {
          "output_type": "execute_result",
          "data": {
            "text/plain": [
              "   sentiment  prediction\n",
              "0          1         1.0\n",
              "1          1         1.0\n",
              "2          1         0.0\n",
              "3          1         1.0\n",
              "4          1         1.0\n",
              "5          1         1.0\n",
              "6          1         1.0\n",
              "7          1         1.0\n",
              "8          0         1.0\n",
              "9          0         1.0"
            ],
            "text/html": [
              "\n",
              "  <div id=\"df-3c3c7f16-3bf9-44df-a616-813939931ebc\" class=\"colab-df-container\">\n",
              "    <div>\n",
              "<style scoped>\n",
              "    .dataframe tbody tr th:only-of-type {\n",
              "        vertical-align: middle;\n",
              "    }\n",
              "\n",
              "    .dataframe tbody tr th {\n",
              "        vertical-align: top;\n",
              "    }\n",
              "\n",
              "    .dataframe thead th {\n",
              "        text-align: right;\n",
              "    }\n",
              "</style>\n",
              "<table border=\"1\" class=\"dataframe\">\n",
              "  <thead>\n",
              "    <tr style=\"text-align: right;\">\n",
              "      <th></th>\n",
              "      <th>sentiment</th>\n",
              "      <th>prediction</th>\n",
              "    </tr>\n",
              "  </thead>\n",
              "  <tbody>\n",
              "    <tr>\n",
              "      <th>0</th>\n",
              "      <td>1</td>\n",
              "      <td>1.0</td>\n",
              "    </tr>\n",
              "    <tr>\n",
              "      <th>1</th>\n",
              "      <td>1</td>\n",
              "      <td>1.0</td>\n",
              "    </tr>\n",
              "    <tr>\n",
              "      <th>2</th>\n",
              "      <td>1</td>\n",
              "      <td>0.0</td>\n",
              "    </tr>\n",
              "    <tr>\n",
              "      <th>3</th>\n",
              "      <td>1</td>\n",
              "      <td>1.0</td>\n",
              "    </tr>\n",
              "    <tr>\n",
              "      <th>4</th>\n",
              "      <td>1</td>\n",
              "      <td>1.0</td>\n",
              "    </tr>\n",
              "    <tr>\n",
              "      <th>5</th>\n",
              "      <td>1</td>\n",
              "      <td>1.0</td>\n",
              "    </tr>\n",
              "    <tr>\n",
              "      <th>6</th>\n",
              "      <td>1</td>\n",
              "      <td>1.0</td>\n",
              "    </tr>\n",
              "    <tr>\n",
              "      <th>7</th>\n",
              "      <td>1</td>\n",
              "      <td>1.0</td>\n",
              "    </tr>\n",
              "    <tr>\n",
              "      <th>8</th>\n",
              "      <td>0</td>\n",
              "      <td>1.0</td>\n",
              "    </tr>\n",
              "    <tr>\n",
              "      <th>9</th>\n",
              "      <td>0</td>\n",
              "      <td>1.0</td>\n",
              "    </tr>\n",
              "  </tbody>\n",
              "</table>\n",
              "</div>\n",
              "    <div class=\"colab-df-buttons\">\n",
              "\n",
              "  <div class=\"colab-df-container\">\n",
              "    <button class=\"colab-df-convert\" onclick=\"convertToInteractive('df-3c3c7f16-3bf9-44df-a616-813939931ebc')\"\n",
              "            title=\"Convert this dataframe to an interactive table.\"\n",
              "            style=\"display:none;\">\n",
              "\n",
              "  <svg xmlns=\"http://www.w3.org/2000/svg\" height=\"24px\" viewBox=\"0 -960 960 960\">\n",
              "    <path d=\"M120-120v-720h720v720H120Zm60-500h600v-160H180v160Zm220 220h160v-160H400v160Zm0 220h160v-160H400v160ZM180-400h160v-160H180v160Zm440 0h160v-160H620v160ZM180-180h160v-160H180v160Zm440 0h160v-160H620v160Z\"/>\n",
              "  </svg>\n",
              "    </button>\n",
              "\n",
              "  <style>\n",
              "    .colab-df-container {\n",
              "      display:flex;\n",
              "      gap: 12px;\n",
              "    }\n",
              "\n",
              "    .colab-df-convert {\n",
              "      background-color: #E8F0FE;\n",
              "      border: none;\n",
              "      border-radius: 50%;\n",
              "      cursor: pointer;\n",
              "      display: none;\n",
              "      fill: #1967D2;\n",
              "      height: 32px;\n",
              "      padding: 0 0 0 0;\n",
              "      width: 32px;\n",
              "    }\n",
              "\n",
              "    .colab-df-convert:hover {\n",
              "      background-color: #E2EBFA;\n",
              "      box-shadow: 0px 1px 2px rgba(60, 64, 67, 0.3), 0px 1px 3px 1px rgba(60, 64, 67, 0.15);\n",
              "      fill: #174EA6;\n",
              "    }\n",
              "\n",
              "    .colab-df-buttons div {\n",
              "      margin-bottom: 4px;\n",
              "    }\n",
              "\n",
              "    [theme=dark] .colab-df-convert {\n",
              "      background-color: #3B4455;\n",
              "      fill: #D2E3FC;\n",
              "    }\n",
              "\n",
              "    [theme=dark] .colab-df-convert:hover {\n",
              "      background-color: #434B5C;\n",
              "      box-shadow: 0px 1px 3px 1px rgba(0, 0, 0, 0.15);\n",
              "      filter: drop-shadow(0px 1px 2px rgba(0, 0, 0, 0.3));\n",
              "      fill: #FFFFFF;\n",
              "    }\n",
              "  </style>\n",
              "\n",
              "    <script>\n",
              "      const buttonEl =\n",
              "        document.querySelector('#df-3c3c7f16-3bf9-44df-a616-813939931ebc button.colab-df-convert');\n",
              "      buttonEl.style.display =\n",
              "        google.colab.kernel.accessAllowed ? 'block' : 'none';\n",
              "\n",
              "      async function convertToInteractive(key) {\n",
              "        const element = document.querySelector('#df-3c3c7f16-3bf9-44df-a616-813939931ebc');\n",
              "        const dataTable =\n",
              "          await google.colab.kernel.invokeFunction('convertToInteractive',\n",
              "                                                    [key], {});\n",
              "        if (!dataTable) return;\n",
              "\n",
              "        const docLinkHtml = 'Like what you see? Visit the ' +\n",
              "          '<a target=\"_blank\" href=https://colab.research.google.com/notebooks/data_table.ipynb>data table notebook</a>'\n",
              "          + ' to learn more about interactive tables.';\n",
              "        element.innerHTML = '';\n",
              "        dataTable['output_type'] = 'display_data';\n",
              "        await google.colab.output.renderOutput(dataTable, element);\n",
              "        const docLink = document.createElement('div');\n",
              "        docLink.innerHTML = docLinkHtml;\n",
              "        element.appendChild(docLink);\n",
              "      }\n",
              "    </script>\n",
              "  </div>\n",
              "\n",
              "\n",
              "<div id=\"df-128c0303-e825-43ff-8a48-3c0cbf7acc6a\">\n",
              "  <button class=\"colab-df-quickchart\" onclick=\"quickchart('df-128c0303-e825-43ff-8a48-3c0cbf7acc6a')\"\n",
              "            title=\"Suggest charts\"\n",
              "            style=\"display:none;\">\n",
              "\n",
              "<svg xmlns=\"http://www.w3.org/2000/svg\" height=\"24px\"viewBox=\"0 0 24 24\"\n",
              "     width=\"24px\">\n",
              "    <g>\n",
              "        <path d=\"M19 3H5c-1.1 0-2 .9-2 2v14c0 1.1.9 2 2 2h14c1.1 0 2-.9 2-2V5c0-1.1-.9-2-2-2zM9 17H7v-7h2v7zm4 0h-2V7h2v10zm4 0h-2v-4h2v4z\"/>\n",
              "    </g>\n",
              "</svg>\n",
              "  </button>\n",
              "\n",
              "<style>\n",
              "  .colab-df-quickchart {\n",
              "      --bg-color: #E8F0FE;\n",
              "      --fill-color: #1967D2;\n",
              "      --hover-bg-color: #E2EBFA;\n",
              "      --hover-fill-color: #174EA6;\n",
              "      --disabled-fill-color: #AAA;\n",
              "      --disabled-bg-color: #DDD;\n",
              "  }\n",
              "\n",
              "  [theme=dark] .colab-df-quickchart {\n",
              "      --bg-color: #3B4455;\n",
              "      --fill-color: #D2E3FC;\n",
              "      --hover-bg-color: #434B5C;\n",
              "      --hover-fill-color: #FFFFFF;\n",
              "      --disabled-bg-color: #3B4455;\n",
              "      --disabled-fill-color: #666;\n",
              "  }\n",
              "\n",
              "  .colab-df-quickchart {\n",
              "    background-color: var(--bg-color);\n",
              "    border: none;\n",
              "    border-radius: 50%;\n",
              "    cursor: pointer;\n",
              "    display: none;\n",
              "    fill: var(--fill-color);\n",
              "    height: 32px;\n",
              "    padding: 0;\n",
              "    width: 32px;\n",
              "  }\n",
              "\n",
              "  .colab-df-quickchart:hover {\n",
              "    background-color: var(--hover-bg-color);\n",
              "    box-shadow: 0 1px 2px rgba(60, 64, 67, 0.3), 0 1px 3px 1px rgba(60, 64, 67, 0.15);\n",
              "    fill: var(--button-hover-fill-color);\n",
              "  }\n",
              "\n",
              "  .colab-df-quickchart-complete:disabled,\n",
              "  .colab-df-quickchart-complete:disabled:hover {\n",
              "    background-color: var(--disabled-bg-color);\n",
              "    fill: var(--disabled-fill-color);\n",
              "    box-shadow: none;\n",
              "  }\n",
              "\n",
              "  .colab-df-spinner {\n",
              "    border: 2px solid var(--fill-color);\n",
              "    border-color: transparent;\n",
              "    border-bottom-color: var(--fill-color);\n",
              "    animation:\n",
              "      spin 1s steps(1) infinite;\n",
              "  }\n",
              "\n",
              "  @keyframes spin {\n",
              "    0% {\n",
              "      border-color: transparent;\n",
              "      border-bottom-color: var(--fill-color);\n",
              "      border-left-color: var(--fill-color);\n",
              "    }\n",
              "    20% {\n",
              "      border-color: transparent;\n",
              "      border-left-color: var(--fill-color);\n",
              "      border-top-color: var(--fill-color);\n",
              "    }\n",
              "    30% {\n",
              "      border-color: transparent;\n",
              "      border-left-color: var(--fill-color);\n",
              "      border-top-color: var(--fill-color);\n",
              "      border-right-color: var(--fill-color);\n",
              "    }\n",
              "    40% {\n",
              "      border-color: transparent;\n",
              "      border-right-color: var(--fill-color);\n",
              "      border-top-color: var(--fill-color);\n",
              "    }\n",
              "    60% {\n",
              "      border-color: transparent;\n",
              "      border-right-color: var(--fill-color);\n",
              "    }\n",
              "    80% {\n",
              "      border-color: transparent;\n",
              "      border-right-color: var(--fill-color);\n",
              "      border-bottom-color: var(--fill-color);\n",
              "    }\n",
              "    90% {\n",
              "      border-color: transparent;\n",
              "      border-bottom-color: var(--fill-color);\n",
              "    }\n",
              "  }\n",
              "</style>\n",
              "\n",
              "  <script>\n",
              "    async function quickchart(key) {\n",
              "      const quickchartButtonEl =\n",
              "        document.querySelector('#' + key + ' button');\n",
              "      quickchartButtonEl.disabled = true;  // To prevent multiple clicks.\n",
              "      quickchartButtonEl.classList.add('colab-df-spinner');\n",
              "      try {\n",
              "        const charts = await google.colab.kernel.invokeFunction(\n",
              "            'suggestCharts', [key], {});\n",
              "      } catch (error) {\n",
              "        console.error('Error during call to suggestCharts:', error);\n",
              "      }\n",
              "      quickchartButtonEl.classList.remove('colab-df-spinner');\n",
              "      quickchartButtonEl.classList.add('colab-df-quickchart-complete');\n",
              "    }\n",
              "    (() => {\n",
              "      let quickchartButtonEl =\n",
              "        document.querySelector('#df-128c0303-e825-43ff-8a48-3c0cbf7acc6a button');\n",
              "      quickchartButtonEl.style.display =\n",
              "        google.colab.kernel.accessAllowed ? 'block' : 'none';\n",
              "    })();\n",
              "  </script>\n",
              "</div>\n",
              "\n",
              "    </div>\n",
              "  </div>\n"
            ],
            "application/vnd.google.colaboratory.intrinsic+json": {
              "type": "dataframe",
              "variable_name": "predictions_crossval",
              "summary": "{\n  \"name\": \"predictions_crossval\",\n  \"rows\": 64191,\n  \"fields\": [\n    {\n      \"column\": \"sentiment\",\n      \"properties\": {\n        \"dtype\": \"number\",\n        \"std\": 0,\n        \"min\": 0,\n        \"max\": 1,\n        \"num_unique_values\": 2,\n        \"samples\": [\n          0,\n          1\n        ],\n        \"semantic_type\": \"\",\n        \"description\": \"\"\n      }\n    },\n    {\n      \"column\": \"prediction\",\n      \"properties\": {\n        \"dtype\": \"number\",\n        \"std\": 0.15570964223495182,\n        \"min\": 0.0,\n        \"max\": 1.0,\n        \"num_unique_values\": 2,\n        \"samples\": [\n          0.0,\n          1.0\n        ],\n        \"semantic_type\": \"\",\n        \"description\": \"\"\n      }\n    }\n  ]\n}"
            }
          },
          "metadata": {},
          "execution_count": 14
        }
      ]
    },
    {
      "cell_type": "markdown",
      "source": [
        "# TESTING DATA WITH NEW REVIEWS"
      ],
      "metadata": {
        "id": "jmmKiC-N9nr5"
      }
    },
    {
      "cell_type": "code",
      "source": [
        "# Menyiapkan Data Ulasan Baru\n",
        "new_review = [\"I feel so much better after taking this medication!\"]\n",
        "\n",
        "# Membuat DataFrame dari Ulasan Baru\n",
        "new_df = spark.createDataFrame([(review,) for review in new_review], [\"Reviews\"])\n",
        "\n",
        "# Menjalankan Pipeline Pada Ulasan Baru\n",
        "new_data = model.transform(new_df)\n",
        "\n",
        "# Melakukan Prediksi Pada Ulasan Baru\n",
        "test_predictions = cv_model.transform(new_data)\n",
        "\n",
        "# Mengambil Hasil Prediksi\n",
        "predicted_sentiment = predictions.select(\"prediction\").collect()[0][0]\n",
        "\n",
        "# Menampilkan Hasil Prediksi\n",
        "print(f\"Prediksi Sentiment Reviews Terbaru {new_review} :\", \"Positive\" if predicted_sentiment == 1 else \"Negative\")"
      ],
      "metadata": {
        "colab": {
          "base_uri": "https://localhost:8080/"
        },
        "id": "KZ3yxc5zKkFk",
        "outputId": "9909f974-0cf7-4016-b09f-b15b7aa97401"
      },
      "execution_count": null,
      "outputs": [
        {
          "output_type": "stream",
          "name": "stdout",
          "text": [
            "Prediksi Sentiment Reviews Terbaru ['I feel so much better after taking this medication!'] : Positive\n"
          ]
        }
      ]
    },
    {
      "cell_type": "code",
      "source": [
        "# Menyiapkan Data Ulasan Baru\n",
        "new_review1 = [\"I feel so much better after taking this medication!\"]\n",
        "\n",
        "# Membuat DataFrame dari Ulasan Baru\n",
        "new_df1 = spark.createDataFrame([(review,) for review in new_review1], [\"Reviews\"])\n",
        "\n",
        "# Menjalankan Pipeline Pada Ulasan Baru\n",
        "new_data1 = model.transform(new_df1)\n",
        "\n",
        "# Melakukan Prediksi Pada Ulasan Baru\n",
        "test_predictions1 = cv_model.transform(new_data1)\n",
        "\n",
        "# Mengambil Hasil Prediksi\n",
        "predicted_sentiment1 = predictions1.select(\"prediction\").collect()[0][0]\n",
        "\n",
        "# Menampilkan Hasil Prediksi\n",
        "print(f\"Prediksi Sentiment Reviews Terbaru {new_review1} :\", \"Positive\" if predicted_sentiment1 == 1 else \"Negative\")"
      ],
      "metadata": {
        "colab": {
          "base_uri": "https://localhost:8080/"
        },
        "id": "-enAKKQXQFdO",
        "outputId": "4ecc4ad4-f62b-43ea-e8d3-ef6a29eb8155"
      },
      "execution_count": null,
      "outputs": [
        {
          "output_type": "stream",
          "name": "stdout",
          "text": [
            "Prediksi Sentiment Reviews Terbaru ['I feel so much better after taking this medication!'] : Positive\n"
          ]
        }
      ]
    },
    {
      "cell_type": "markdown",
      "source": [
        "# DATA VISUALIZATION"
      ],
      "metadata": {
        "id": "fh0fT3GJ9rzs"
      }
    },
    {
      "cell_type": "code",
      "source": [
        "# Mengambil Hasil Prediksi\n",
        "predictions_pd = cv_predictions.select(\"sentiment\", \"prediction\").toPandas()\n",
        "\n",
        "# Membuat Confusion Matrix\n",
        "conf_matrix = pd.crosstab(predictions_pd['sentiment'], predictions_pd['prediction'], rownames=['Actual'], colnames=['Predicted'])\n",
        "\n",
        "# Inisialisasi Label Matrix\n",
        "labels = ['Negative', 'Positive']\n",
        "\n",
        "# Membuat Visualisasi Confusion Matrix (Heatmap)\n",
        "plt.figure(figsize=(8, 6))\n",
        "sns.heatmap(conf_matrix, annot=True, fmt='d', cmap='Blues', xticklabels=labels,\n",
        "            yticklabels=labels, cbar_kws={'label': 'Jumlah Data'})\n",
        "plt.title('Hasil Confusion Matrix', fontsize=16)\n",
        "plt.xlabel('Label Prediksi', fontsize=14)\n",
        "plt.ylabel('Label Aktual', fontsize=14)\n",
        "plt.xticks(fontsize=12)\n",
        "plt.yticks(fontsize=12)\n",
        "plt.tight_layout()\n",
        "\n",
        "# Menampilkan Visualisasi\n",
        "plt.show()"
      ],
      "metadata": {
        "colab": {
          "base_uri": "https://localhost:8080/",
          "height": 607
        },
        "id": "lChDdEVxB6vs",
        "outputId": "7180d9dd-e39a-44ce-96e7-95924d353b03"
      },
      "execution_count": null,
      "outputs": [
        {
          "output_type": "display_data",
          "data": {
            "text/plain": [
              "<Figure size 800x600 with 2 Axes>"
            ],
            "image/png": "[encoded data removed]"
          },
          "metadata": {}
        }
      ]
    },
    {
      "cell_type": "code",
      "source": [
        "# Menghitung Jumlah Sentiment\n",
        "sentiment_counts = df_tfidf.select(\"sentiment\").groupBy(\"sentiment\").count().toPandas()\n",
        "sentiment_counts = sentiment_counts.sort_values(\"sentiment\")\n",
        "\n",
        "# Data Untuk Diagram Pie Chart\n",
        "sizes = sentiment_counts[\"count\"].values\n",
        "\n",
        "# Membuat Visualisasi Distribusi Sentimen (Pie Chart)\n",
        "plt.figure(figsize=(7, 7))\n",
        "plt.pie(sizes, labels=['Negative', 'Positive'], autopct='%1.1f%%',\n",
        "        startangle=90, colors=['#66B2FF', '#FF6666'], explode=(0.1, 0),\n",
        "        shadow=True, textprops={'color': 'black'})\n",
        "plt.title('Distribusi Sentimen', fontsize=14)\n",
        "plt.axis('equal')\n",
        "\n",
        "# Menampilkan Visualisasi\n",
        "plt.show()"
      ],
      "metadata": {
        "colab": {
          "base_uri": "https://localhost:8080/",
          "height": 599
        },
        "id": "tU53eZJyOOyw",
        "outputId": "9f32a493-863c-40f5-89df-fbf4d0360e0e"
      },
      "execution_count": null,
      "outputs": [
        {
          "output_type": "display_data",
          "data": {
            "text/plain": [
              "<Figure size 700x700 with 1 Axes>"
            ],
            "image/png": "[encoded data removed]"
          },
          "metadata": {}
        }
      ]
    },
    {
      "cell_type": "code",
      "source": [
        "# Mengambil feature importances dari model Random Forest\n",
        "importances = rf_model.featureImportances.toArray()\n",
        "\n",
        "# Mendapatkan nama fitur\n",
        "feature_names = [f\"feature_{i}\" for i in range(len(importances))]\n",
        "\n",
        "# Membuat DataFrame untuk menggabungkan fitur dengan importance-nya\n",
        "features_importance_df = pd.DataFrame({\n",
        "    'Feature': feature_names,\n",
        "    'Importance': importances\n",
        "})\n",
        "\n",
        "# Mengurutkan berdasarkan importance\n",
        "features_importance_df = features_importance_df.sort_values(by='Importance', ascending=False)\n",
        "\n",
        "# Menampilkan 10 fitur terpenting\n",
        "top_10_features = features_importance_df.head(10)\n",
        "\n",
        "# Visualisasi 10 fitur terpenting\n",
        "plt.figure(figsize=(10, 6))\n",
        "sns.barplot(x='Importance', y='Feature', data=top_10_features)\n",
        "plt.title('10 Fitur Terpenting dalam Model Random Forest')\n",
        "plt.xlabel('Importance')\n",
        "plt.ylabel('Fitur')\n",
        "plt.show()\n"
      ],
      "metadata": {
        "colab": {
          "base_uri": "https://localhost:8080/",
          "height": 564
        },
        "id": "tq9lsn2vOY6A",
        "outputId": "c3f2a80c-952f-4260-d752-cb50ecbdfb53"
      },
      "execution_count": null,
      "outputs": [
        {
          "output_type": "display_data",
          "data": {
            "text/plain": [
              "<Figure size 1000x600 with 1 Axes>"
            ],
            "image/png": "[encoded data removed]"
          },
          "metadata": {}
        }
      ]
    }
  ]
}